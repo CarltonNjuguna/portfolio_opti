{
 "cells": [
  {
   "cell_type": "code",
   "execution_count": 1,
   "metadata": {},
   "outputs": [],
   "source": [
    "import matplotlib.pyplot as plt\n",
    "import numpy as np\n",
    "import pandas as pd\n",
    "from matplotlib.ticker import FuncFormatter\n",
    "import yfinance as yf"
   ]
  },
  {
   "cell_type": "code",
   "execution_count": 2,
   "metadata": {},
   "outputs": [
    {
     "name": "stdout",
     "output_type": "stream",
     "text": [
      "[*********************100%***********************]  10 of 10 completed\n"
     ]
    }
   ],
   "source": [
    "start = '2008-01-01'\n",
    "end = '2022-11-22'\n",
    "assets = [\"PFE\", \"JNJ\", \"GOOGL\", \n",
    "           \"AAPL\", \"COST\", \"WMT\", \"KR\", \"JPM\", \n",
    "          \"BAC\", \"HSBC\"]\n",
    "\n",
    "assets.sort()\n",
    "\n",
    "df = yf.download(assets, start = start, end = end)\n",
    "df = df.loc[:,('Adj Close', slice(None))]\n",
    "df.columns = assets"
   ]
  },
  {
   "cell_type": "code",
   "execution_count": 8,
   "metadata": {},
   "outputs": [],
   "source": [
    "from pypfopt.efficient_frontier import EfficientFrontier\n",
    "from pypfopt import risk_models\n",
    "from pypfopt import expected_returns\n",
    "from pypfopt.cla import CLA\n",
    "#from pypfopt.plotting import Plotting\n",
    "from matplotlib.ticker import FuncFormatter\n",
    "from pypfopt.discrete_allocation import DiscreteAllocation, get_latest_prices"
   ]
  },
  {
   "cell_type": "code",
   "execution_count": 5,
   "metadata": {},
   "outputs": [],
   "source": [
    "mu = expected_returns.mean_historical_return(df)\n",
    "#Sample Variance of Portfolio\n",
    "Sigma = risk_models.sample_cov(df)"
   ]
  },
  {
   "cell_type": "code",
   "execution_count": 6,
   "metadata": {},
   "outputs": [
    {
     "name": "stdout",
     "output_type": "stream",
     "text": [
      "OrderedDict([('AAPL', 0.64633), ('BAC', -0.35125), ('COST', 0.66831), ('GOOGL', -0.15669), ('HSBC', -0.61231), ('JNJ', 0.34321), ('JPM', 0.4264), ('KR', 0.06945), ('PFE', 0.05337), ('WMT', -0.08683)])\n"
     ]
    }
   ],
   "source": [
    "#Max Sharpe Ratio - Tangent to the EF\n",
    "ef = EfficientFrontier(mu, Sigma, weight_bounds=(-1,1)) #weight bounds in negative allows shorting of stocks\n",
    "sharpe_pfolio=ef.max_sharpe() #May use add objective to ensure minimum zero weighting to individual stocks\n",
    "sharpe_pwt=ef.clean_weights()\n",
    "print(sharpe_pwt)"
   ]
  },
  {
   "cell_type": "code",
   "execution_count": 9,
   "metadata": {},
   "outputs": [
    {
     "ename": "NameError",
     "evalue": "name 'discrete_allocation' is not defined",
     "output_type": "error",
     "traceback": [
      "\u001b[0;31m---------------------------------------------------------------------------\u001b[0m",
      "\u001b[0;31mNameError\u001b[0m                                 Traceback (most recent call last)",
      "Cell \u001b[0;32mIn [9], line 1\u001b[0m\n\u001b[0;32m----> 1\u001b[0m latest_prices \u001b[39m=\u001b[39m discrete_allocation\u001b[39m.\u001b[39mget_latest_prices(df_stocks)\n\u001b[1;32m      2\u001b[0m \u001b[39m# Allocate Portfolio Value in $ as required to show number of shares/stocks to buy, also bounds for shorting will affect allocation\u001b[39;00m\n\u001b[1;32m      3\u001b[0m \u001b[39m#Min Volatility Portfolio Allocation $10000\u001b[39;00m\n\u001b[1;32m      4\u001b[0m allocation_minv, rem_minv \u001b[39m=\u001b[39m discrete_allocation\u001b[39m.\u001b[39mDiscreteAllocation(minvol_pwt, latest_prices, total_portfolio_value\u001b[39m=\u001b[39m\u001b[39m10000\u001b[39m)\u001b[39m.\u001b[39mlp_portfolio()\n",
      "\u001b[0;31mNameError\u001b[0m: name 'discrete_allocation' is not defined"
     ]
    }
   ],
   "source": [
    "latest_prices = discrete_allocation.get_latest_prices(df_stocks)\n",
    "# Allocate Portfolio Value in $ as required to show number of shares/stocks to buy, also bounds for shorting will affect allocation\n",
    "#Min Volatility Portfolio Allocation $10000\n",
    "allocation_minv, rem_minv = discrete_allocation.DiscreteAllocation(minvol_pwt, latest_prices, total_portfolio_value=10000).lp_portfolio()\n",
    "print(allocation_minv)\n",
    "print(\"Leftover Fund value in$ after building minimum volatility portfolio is ${:.2f}\".format(rem_minv))"
   ]
  }
 ],
 "metadata": {
  "kernelspec": {
   "display_name": "Python 3.10.6 64-bit",
   "language": "python",
   "name": "python3"
  },
  "language_info": {
   "codemirror_mode": {
    "name": "ipython",
    "version": 3
   },
   "file_extension": ".py",
   "mimetype": "text/x-python",
   "name": "python",
   "nbconvert_exporter": "python",
   "pygments_lexer": "ipython3",
   "version": "3.10.6"
  },
  "orig_nbformat": 4,
  "vscode": {
   "interpreter": {
    "hash": "916dbcbb3f70747c44a77c7bcd40155683ae19c65e1c03b4aa3499c5328201f1"
   }
  }
 },
 "nbformat": 4,
 "nbformat_minor": 2
}
